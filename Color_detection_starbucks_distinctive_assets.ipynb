{
  "cells": [
    {
      "cell_type": "markdown",
      "metadata": {
        "id": "-Yd4XiaS4SGR"
      },
      "source": [
        "#Using color detection to inspect one of starbucks distinctive assets </br>\n",
        "Bradley Besselink "
      ]
    },
    {
      "cell_type": "markdown",
      "metadata": {
        "id": "K6wxZe4B4SGU"
      },
      "source": [
        "**Topic:**<br>\n",
        "Identifying Starbucks distincitve asset (color) from top 50 Google pictures. \n",
        "\n",
        "**Interest of the case study:**<br>\n",
        "How well do 50 images from Google by term 'starbucks' represent color as identifiable assets for brand recognition of Starbucks?\n",
        "\n",
        "**Motivation:**<br>\n",
        "Jenny Romaniuk wrote a book* on the role of identifiable assets on the success of brand recall in moments of buying consideration. In this case study I will take a look at Starbucks. When it comes to color Starbucks mostly uses a mix of greens in their branding. The palet can be found at https://creative.starbucks.com/color/. \n",
        "\n",
        "The branding decisions make by the creative team of Starbucks are something they have direct control over. The first 50 pictures that pop up when I lookup Starbucks are something they have way less control over (only from their seo/sea efforts). The images that pop-up do represent the image a person gets of the brand when they only google the brand (and do not yet know anything about it). This research case gives an indication how well the stated identifiable assets are represented when not all images made or supported /created by the brand themselves. How visible are the assets? Is Starbucks content living up to the constant use in color as stated in the brand book? Is there any inheritance from profession branding content towards user-generated content when it comes to color use? If the later two questions are answered no, this means that Starbucks could make improvements in the identifiability of their assets. They could try out an improvement and redo the same study to find out if there is indeed an improvement on the representation of identifiable assets. (although, I would suggest that the data of this study should be increased and conclusions should not be based on one persons search results, but that of many potential customers).\n",
        "\n",
        "*Link to the book: https://www.marketingscience.info/building-distinctive-brand-assets/"
      ]
    },
    {
      "cell_type": "markdown",
      "metadata": {
        "id": "cefZjxQN4SGU"
      },
      "source": [
        "#Method\n",
        "This study is all about the use of color. Therefore I will make use of the analysis of image features. <br>\n",
        "**Steps:**\n",
        "1.   create a folder named starbucks_img\n",
        "2.   scrape the first 50 images from google images based on the search term  'starbucks'\n",
        "3.   go to https://creative.starbucks.com/color/, take a screenshot of the color palet.\n",
        "4.   open photoshop, from the screenshot, remove the texts and borders (also copy the hexcodes of all 8 colors to your notepad.\n",
        "5.   load the images from our local machine by using a path\n",
        "\n",
        "**Part 1: Explore the Starbucks brand colors & create a dataframe with hexcodes**\n",
        "6.   plot the color palet\n",
        "7.   create a color map of the palet\n",
        "8.   generate the hexcodes of the color palet and store them into a dataframe\n",
        "\n",
        "**Part 2: Loop through the images & create a dataframe with hex codes**\n",
        "9.   loop through the images \n",
        "10.  add the hexcodes to a list 'hexcodes_list'\n",
        "\n",
        "Part 3: Compare the hexcodes\n",
        "11.  check if any of the hex codes are in the dataframe \n",
        "12.  count the amount of times a hexcode is in the list \n",
        "\n",
        "\n"
      ]
    },
    {
      "cell_type": "code",
      "execution_count": null,
      "metadata": {
        "id": "JUPrxlj_4SGV"
      },
      "outputs": [],
      "source": [
        "#import libaries and load images\n",
        "import io\n",
        "import urllib\n",
        "\n",
        "import matplotlib.pyplot as plt\n",
        "from PIL import Image, ImageOps\n",
        "from tensorflow.keras.preprocessing import image\n",
        "\n",
        "%config InlineBackend.figure_format='retina' \n",
        "\n",
        "image_path='starbucks_img/'\n",
        "def load_image_from_path(image_path, target_size=None, color_mode='rgb'):\n",
        "    pil_image = image.load_img(image_path, \n",
        "                               target_size=target_size,\n",
        "                            color_mode=color_mode)\n",
        "    return image.img_to_array(pil_image)"
      ]
    },
    {
      "cell_type": "markdown",
      "metadata": {
        "id": "asexjk294SGW"
      },
      "source": [
        "**Part 1: Explore the Starbucks brand colors & create a dataframe with hexcodes**"
      ]
    },
    {
      "cell_type": "code",
      "execution_count": null,
      "metadata": {
        "id": "epD5EjTN4SGX",
        "outputId": "fa9b9f9e-ea69-49bd-de09-27601a9a32c9"
      },
      "outputs": [
        {
          "data": {
            "text/plain": [
              "<matplotlib.image.AxesImage at 0x26fdb2c49b0>"
            ]
          },
          "execution_count": 122,
          "metadata": {},
          "output_type": "execute_result"
        },
        {
          "data": {
            "image/png": "[encoded data removed]",
            "text/plain": [
              "<Figure size 432x288 with 1 Axes>"
            ]
          },
          "metadata": {
            "image/png": {
              "height": 251,
              "width": 188
            },
            "needs_background": "light"
          },
          "output_type": "display_data"
        }
      ],
      "source": [
        "#plot  the color palet\n",
        "#i turned the color palette on the side into a color palette only consisting of colours (no borders, no text) using photoshop\n",
        "import numpy as np\n",
        "OUR_IMAGE = 'starbucks_img/color_palette_starbucks.jpg' #specify color_palette image\n",
        "\n",
        "color_image = load_image_from_path(OUR_IMAGE,\n",
        "                        color_mode='rgb') # use from path if you downloaded it on your local computer\n",
        "plt.imshow(color_image.astype(np.uint8))"
      ]
    },
    {
      "cell_type": "code",
      "execution_count": null,
      "metadata": {
        "id": "m9zlCDjY4SGY"
      },
      "outputs": [],
      "source": [
        "import colorgram\n",
        "from matplotlib.colors import to_hex\n",
        "\n",
        "OUR_IMAGE = 'starbucks_img/color_palette_starbucks.jpg'\n",
        "\n",
        "color_image = load_image_from_path(OUR_IMAGE,\n",
        "                        color_mode='rgb')\n",
        "img = Image.fromarray(color_image.astype(np.uint8)) # convert to PIL image object\n",
        "\n",
        "colors = colorgram.extract(img, 8) #we try to find the 8 most distinctive colors, as the Starbucks branding color palette consist of 8 colors as well "
      ]
    },
    {
      "cell_type": "code",
      "execution_count": null,
      "metadata": {
        "id": "-E0pWqZc4SGY",
        "outputId": "0195b9ea-e9e1-420f-bb2d-1f52887e714c"
      },
      "outputs": [
        {
          "data": {
            "text/plain": [
              "(0.0, 1.0, 0.0, 1.0)"
            ]
          },
          "execution_count": 124,
          "metadata": {},
          "output_type": "execute_result"
        },
        {
          "data": {
            "image/png": "[encoded data removed]",
            "text/plain": [
              "<Figure size 432x108 with 1 Axes>"
            ]
          },
          "metadata": {
            "image/png": {
              "height": 95,
              "width": 349
            },
            "needs_background": "light"
          },
          "output_type": "display_data"
        }
      ],
      "source": [
        "#lets see if the computer recognizes the colors\n",
        "import matplotlib as mpl\n",
        "\n",
        "fig, ax = plt.subplots(figsize=(6, 1.5))\n",
        "\n",
        "norm_colors = [[color / 255 for color in tuple((color.rgb))]  for color in colors] \n",
        "\n",
        "cmap = mpl.colors.ListedColormap(norm_colors) # create a colormap\n",
        "bounds = np.cumsum([color.proportion for color in colors])\n",
        "norm = mpl.colors.BoundaryNorm(bounds, cmap.N)\n",
        "cb2 = mpl.colorbar.ColorbarBase(ax, cmap=cmap, \n",
        "                                  norm=norm,\n",
        "                                    spacing='proportional',\n",
        "                                orientation='horizontal')\n",
        "plt.axis('off')"
      ]
    },
    {
      "cell_type": "code",
      "execution_count": null,
      "metadata": {
        "id": "8WTDQtQS4SGZ",
        "outputId": "4f061b1f-7c7c-4284-c09a-f25abdf89141",
        "scrolled": true
      },
      "outputs": [
        {
          "data": {
            "text/html": [
              "<div>\n",
              "<style scoped>\n",
              "    .dataframe tbody tr th:only-of-type {\n",
              "        vertical-align: middle;\n",
              "    }\n",
              "\n",
              "    .dataframe tbody tr th {\n",
              "        vertical-align: top;\n",
              "    }\n",
              "\n",
              "    .dataframe thead th {\n",
              "        text-align: right;\n",
              "    }\n",
              "</style>\n",
              "<table border=\"1\" class=\"dataframe\">\n",
              "  <thead>\n",
              "    <tr style=\"text-align: right;\">\n",
              "      <th></th>\n",
              "      <th>hex_codes</th>\n",
              "      <th>color</th>\n",
              "    </tr>\n",
              "  </thead>\n",
              "  <tbody>\n",
              "    <tr>\n",
              "      <th>0</th>\n",
              "      <td>#006642</td>\n",
              "      <td>starbucks_color</td>\n",
              "    </tr>\n",
              "    <tr>\n",
              "      <th>1</th>\n",
              "      <td>#f8f7f6</td>\n",
              "      <td>starbucks_color</td>\n",
              "    </tr>\n",
              "    <tr>\n",
              "      <th>2</th>\n",
              "      <td>#1e3931</td>\n",
              "      <td>starbucks_color</td>\n",
              "    </tr>\n",
              "    <tr>\n",
              "      <th>3</th>\n",
              "      <td>#d3e9e2</td>\n",
              "      <td>starbucks_color</td>\n",
              "    </tr>\n",
              "    <tr>\n",
              "      <th>4</th>\n",
              "      <td>#000000</td>\n",
              "      <td>starbucks_color</td>\n",
              "    </tr>\n",
              "  </tbody>\n",
              "</table>\n",
              "</div>"
            ],
            "text/plain": [
              "  hex_codes            color\n",
              "0   #006642  starbucks_color\n",
              "1   #f8f7f6  starbucks_color\n",
              "2   #1e3931  starbucks_color\n",
              "3   #d3e9e2  starbucks_color\n",
              "4   #000000  starbucks_color"
            ]
          },
          "execution_count": 125,
          "metadata": {},
          "output_type": "execute_result"
        }
      ],
      "source": [
        "#now I'm going to create a dataframe with the hex codes. I'm going to compare the images to the hex codes of the starbucks branding hex codes\n",
        "import pandas as pd\n",
        "branding= [] #empty frame\n",
        "branding_df= pd.DataFrame(branding_df)\n",
        "for i, color in enumerate(colors):\n",
        "    rgb = tuple(color.rgb)\n",
        "    hex_code = to_hex([c/255 for c in rgb])\n",
        "    branding.append(hex_code)\n",
        "branding_df['hex_codes'] = branding #hexcodes to dataframe column 'hex_codes'\n",
        "branding_df.loc[:,'color'] = 'starbucks_color'\n",
        "branding_df"
      ]
    },
    {
      "cell_type": "markdown",
      "metadata": {
        "id": "REsj1b0s4SGZ"
      },
      "source": [
        "**Part 2: Loop through the images & create a dataframe with hex codes cursieve tekst**"
      ]
    },
    {
      "cell_type": "code",
      "execution_count": null,
      "metadata": {
        "id": "MFPvmQlf4SGZ"
      },
      "outputs": [],
      "source": [
        "import os\n",
        "img_path = \"/Users/bbsln/Documents/Applied data science/Data mining/Untitled Folder/starbucks_img\"\n",
        "hexcodes_list= []\n",
        "img_df = \"\"\n",
        "for image_star in os.listdir(img_path):\n",
        "    if image_star.startswith(\"img\"): #color palet is in the folder as well, we want to exclude that one\n",
        "        OUR_IMAGE = 'starbucks_img/{}'.format(image_star)#specify path for each image in the folder\n",
        "        color_image = load_image_from_path(OUR_IMAGE,color_mode='rgb')\n",
        "        img = Image.fromarray(color_image.astype(np.uint8)) # convert to PIL image object\n",
        "        colors = colorgram.extract(img, 8) #we try to find the 8 most distinctive colors, as the starbucks branding color palette consist of 8 colors as well\n",
        "    \n",
        "    for i, color in enumerate(colors):\n",
        "        rgb = tuple(color.rgb)\n",
        "        hex_code = to_hex([c/255 for c in rgb])\n",
        "        hexcodes_list.append(hex_code)   \n",
        "    continue\n"
      ]
    },
    {
      "cell_type": "markdown",
      "metadata": {
        "id": "Phe7V-Ga4SGa"
      },
      "source": [
        "**Part 3: Compare the hexcodes**"
      ]
    },
    {
      "cell_type": "code",
      "execution_count": null,
      "metadata": {
        "id": "yVFo7W1B4SGa"
      },
      "outputs": [],
      "source": [
        "for code in branding_df['hex_codes']:\n",
        "    if i in hexcodes_list: #check if hexcode from starbucks branding (i) is in the list of hexcodes from the images (hexcodes_list)\n",
        "        print(i)"
      ]
    },
    {
      "cell_type": "markdown",
      "metadata": {
        "id": "dNxBpgIO4SGa"
      },
      "source": [
        "There are no overlapping codes. Perhaps these colors are only used in logos, which take up less space in the image. I will try a higher amount of colors."
      ]
    },
    {
      "cell_type": "code",
      "execution_count": null,
      "metadata": {
        "id": "jIdEE3Ma4SGa"
      },
      "outputs": [],
      "source": [
        "#try the 20 most distinctive colors\n",
        "import os\n",
        "img_path = \"/Users/bbsln/Documents/Applied data science/Data mining/Untitled Folder/starbucks_img\"\n",
        "hexcodes_list_20= []\n",
        "img_df = \"\"\n",
        "for image_star in os.listdir(img_path):\n",
        "    if image_star.startswith(\"img\"):\n",
        "        OUR_IMAGE = 'starbucks_img/{}'.format(image_star)\n",
        "        color_image = load_image_from_path(OUR_IMAGE,color_mode='rgb')\n",
        "        img = Image.fromarray(color_image.astype(np.uint8)) # convert to PIL image object\n",
        "        colors = colorgram.extract(img, 20) #lets try 20\n",
        "    for i, color in enumerate(colors):\n",
        "        rgb = tuple(color.rgb)\n",
        "        hex_code = to_hex([c/255 for c in rgb])\n",
        "        hexcodes_list_20.append(hex_code)   \n",
        "    continue"
      ]
    },
    {
      "cell_type": "code",
      "execution_count": null,
      "metadata": {
        "id": "bDUOMjHa4SGb"
      },
      "outputs": [],
      "source": [
        "for code in branding_df['hex_codes']:\n",
        "    if code in hexcodes_list_20:\n",
        "        print(code)"
      ]
    },
    {
      "cell_type": "markdown",
      "metadata": {
        "id": "PeBEL1yd4SGb"
      },
      "source": [
        "There are still no overlapping colors. The earlier we saw that the color hexcodes are an estimation. I happen to have the true hexcodes from photoshop."
      ]
    },
    {
      "cell_type": "code",
      "execution_count": null,
      "metadata": {
        "id": "Y8AI-Y8m4SGb"
      },
      "outputs": [],
      "source": [
        "#create a dataframe with the true hexcodes extracted from photoshop\n",
        "true_hex= pd.DataFrame({'hex_codes':['#016241','#007549','#d4e9e2','#1e3932','#000000','#f1f0eb','#f9f9f9','#ffffff']})"
      ]
    },
    {
      "cell_type": "code",
      "execution_count": null,
      "metadata": {
        "id": "Lu3V5oaQ4SGb"
      },
      "outputs": [],
      "source": [
        "for code in true_hex['hex_codes']:\n",
        "    if code in hexcodes_list_20:\n",
        "        print(code)"
      ]
    },
    {
      "cell_type": "markdown",
      "metadata": {
        "id": "Z6KalD9h4SGc"
      },
      "source": [
        "There are still no overlapping results"
      ]
    },
    {
      "cell_type": "markdown",
      "metadata": {
        "id": "3igD0AAE4SGc"
      },
      "source": [
        "**Conclusion/Discussion:**<br>\n",
        "\n",
        "None of the hexcodes are overlapping. I did expect to see some overlap with the true hexcodes, since '#000000' and '#ffffff' are included and represent black and white, which are quite common to use. \n",
        "This could mean that Starbucks didn't give a lot of space in their content to their earlier stated distinctive colors. Although this doesn't necessarily mean Starbucks doesn't make good use of their distinctive assets, perhaps they are pretty consistent in their use of logo/fonts/sounds.\n",
        "But if their goal would be to increase brand recognition and recall, through the potential of distinctive assets, then color would be an interesting one to look into based on this small study. An interesting future study could be to take the first 50 images of other coffee brands and do the same comparison. Then, compare the hexcode lists which eachother. If there is a lot of overlap, this means that coffee brands make content that is very much alike based on color. \n",
        "\n",
        "\n",
        "Since there is no found overlap, this could mean that the study is too specific. If I had categorized the hex codes into color tunes, this could have led to more overlap. For example, if we look into the dataset we see the logo in quite a lot of pictures, but shading/filters change the tone of color a bit. The green color is in the picture but in a different shade. Does this mean that Starbucks is no longer specified to addressed to the green logo? I don't think this will be the case. I think that people are better at noticing the fact there is some shading in a picture if they are familiar with the shade of green it is supposed to be. \n"
      ]
    }
  ],
  "metadata": {
    "colab": {
      "collapsed_sections": [],
      "name": "Color-detection-starbucks-distinctive-assets.ipynb",
      "provenance": [],
      "toc_visible": true
    },
    "kernelspec": {
      "display_name": "Python 3",
      "language": "python",
      "name": "python3"
    },
    "language_info": {
      "codemirror_mode": {
        "name": "ipython",
        "version": 3
      },
      "file_extension": ".py",
      "mimetype": "text/x-python",
      "name": "python",
      "nbconvert_exporter": "python",
      "pygments_lexer": "ipython3",
      "version": "3.7.3"
    }
  },
  "nbformat": 4,
  "nbformat_minor": 0
}